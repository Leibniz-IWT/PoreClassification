{
 "cells": [
  {
   "cell_type": "markdown",
   "id": "443ec0a7-722d-496c-83a6-1dbb18c9961c",
   "metadata": {},
   "source": [
    "# Imports "
   ]
  },
  {
   "cell_type": "code",
   "execution_count": 2,
   "id": "ca8782f5-8c0d-4c8a-88d2-d83ada30c1a6",
   "metadata": {},
   "outputs": [],
   "source": [
    "import glob\n",
    "import cv2 as cv\n",
    "from sklearn.metrics import accuracy_score, confusion_matrix, precision_score, recall_score, ConfusionMatrixDisplay\n",
    "import os\n",
    "import matplotlib.pyplot as plt\n",
    "import numpy as np\n",
    "import pandas as pd\n",
    "from heatmap import heatmap, corrplot\n",
    "\n",
    "from sklearn.model_selection import RandomizedSearchCV, train_test_split\n",
    "from sklearn.ensemble import RandomForestClassifier\n",
    "from sklearn.cluster import KMeans\n",
    "import pickle\n",
    "\n",
    "###  PoreAnalyzer Package  ################################################################################\n",
    "\n",
    "from analyzer.classificator import Preprocessing, DimensionReductionPCA, KMeansClassifier, DBSCANClassifier\n",
    "from analyzer.features import Pore"
   ]
  },
  {
   "cell_type": "markdown",
   "id": "feb34a60-a784-4f0b-b8f5-f2c182b34002",
   "metadata": {
    "tags": []
   },
   "source": [
    "# Pore seperation and Feature Extraktion"
   ]
  },
  {
   "cell_type": "code",
   "execution_count": null,
   "id": "257e0668-9382-474f-b341-5a2a04ac0f7d",
   "metadata": {},
   "outputs": [],
   "source": [
    "# Poren einzeln aus Bildern auslesen und speichern\n",
    "images = [filepath for filepath in glob.iglob('Images/Ti6Al4V-Stichprobe_4/Images/*.jpg')]\n",
    "process_time = []\n",
    "\n",
    "# lists for extracted features\n",
    "solidity = []\n",
    "area = []\n",
    "defect_density = []\n",
    "perimeter = []\n",
    "mean_conv_defect = []\n",
    "img_names = []\n",
    "pore_number = []\n",
    "images_index = []\n",
    "pore_index = []\n",
    "\n",
    "# try: \n",
    "#     os.makedirs('Images/AlSi35_Analysis/all_pores')\n",
    "# except OSError:\n",
    "#     pass\n",
    "\n",
    "for i, image in enumerate(images):\n",
    "    \n",
    "    # if i == 2:\n",
    "    #     break\n",
    "    image_saved = False\n",
    "\n",
    "    time_zero = time.time() # Zeit zum Beginn des Loops speichern\n",
    "    \n",
    "    img = cv.imread(image, cv.IMREAD_UNCHANGED) # Bild laden\n",
    "    head_tail = os.path.split(image)\n",
    "    names_split = int(os.path.splitext(head_tail[1])[0].removesuffix('_4'))    \n",
    "    \n",
    "    try: \n",
    "        specimen=Micrograph(img, scale=1.79, cropsize_microns=2000)\n",
    "    except:\n",
    "        continue\n",
    "    \n",
    "    for j, pore in enumerate(specimen.prs):\n",
    "        pore_sep = PoreSeperator(pore.contour, specimen.img_cnt, segmentsize=0.1)\n",
    "        pore_index.append(str(i) + '_' + str(j))\n",
    "        if pore_sep.check_size() == True:\n",
    "            pore_sep.save('Images/Ti6Al4V-Stichprobe_4/pores/{}_{}.jpg'.format(names_split, j))#i,j))\n",
    "            image_saved = True\n",
    "            \n",
    "            # save features of saved pore in list\n",
    "            solidity.append(pore.solidity)\n",
    "            area.append(pore.area)\n",
    "            defect_density.append(pore.defect_density)\n",
    "            perimeter.append(pore.perimeter)\n",
    "            mean_conv_defect.append(pore.mean_defect)\n",
    "            img_names.append(names_split)\n",
    "            pore_number.append(j)\n",
    "            images_index.append(str(i) + '_' + str(j))\n",
    "        \n",
    "    process_time.append(time.time()-time_zero)\n",
    "    time_pending = (len(images)-i-1)*sum(process_time)/len(process_time)\n",
    "    pending_hours = int(time_pending*0.01666666/60)\n",
    "    pending_minutes = int(time_pending*0.01666666-(60*pending_hours))\n",
    "    print('\\r Image {:03d} of {}, time pending: {:02d} h {:02d} Min'.format(i+1, len(images), pending_hours, pending_minutes), end=\"\") "
   ]
  },
  {
   "cell_type": "code",
   "execution_count": null,
   "id": "b2dd5fd5-731b-413b-82b7-71a501ac3ef5",
   "metadata": {},
   "outputs": [],
   "source": [
    "dataframe = {'img': img_names, 'pore_number': pore_number, 'image_index': images_index,'solidity': solidity, 'area': area, 'defect_density': defect_density, 'perimeter': perimeter, 'mean_defect': mean_conv_defect}\n",
    "\n",
    "dataframe = pd.DataFrame.from_dict(dataframe)\n",
    "dataframe"
   ]
  },
  {
   "cell_type": "code",
   "execution_count": null,
   "id": "4f4da05d-06b1-4c03-b57d-061fa99adcd4",
   "metadata": {},
   "outputs": [],
   "source": [
    "dataframe.to_csv('Images/AlSi10Mg_Pores/AlSi10Mg_Pore_Features.csv', sep=';', decimal=\",\", index=False)"
   ]
  },
  {
   "cell_type": "code",
   "execution_count": 3,
   "id": "d8155d5c-52b1-4407-8f3f-28bb1d4a38b7",
   "metadata": {},
   "outputs": [
    {
     "data": {
      "text/html": [
       "<div>\n",
       "<style scoped>\n",
       "    .dataframe tbody tr th:only-of-type {\n",
       "        vertical-align: middle;\n",
       "    }\n",
       "\n",
       "    .dataframe tbody tr th {\n",
       "        vertical-align: top;\n",
       "    }\n",
       "\n",
       "    .dataframe thead th {\n",
       "        text-align: right;\n",
       "    }\n",
       "</style>\n",
       "<table border=\"1\" class=\"dataframe\">\n",
       "  <thead>\n",
       "    <tr style=\"text-align: right;\">\n",
       "      <th></th>\n",
       "      <th>img</th>\n",
       "      <th>pore_number</th>\n",
       "      <th>image_index</th>\n",
       "      <th>solidity</th>\n",
       "      <th>area</th>\n",
       "      <th>defect_density</th>\n",
       "      <th>perimeter</th>\n",
       "      <th>mean_defect</th>\n",
       "    </tr>\n",
       "  </thead>\n",
       "  <tbody>\n",
       "    <tr>\n",
       "      <th>0</th>\n",
       "      <td>1</td>\n",
       "      <td>10</td>\n",
       "      <td>0_10</td>\n",
       "      <td>1.000000</td>\n",
       "      <td>2.647731</td>\n",
       "      <td>0.000000</td>\n",
       "      <td>6.178982</td>\n",
       "      <td>0.000000</td>\n",
       "    </tr>\n",
       "    <tr>\n",
       "      <th>1</th>\n",
       "      <td>1</td>\n",
       "      <td>11</td>\n",
       "      <td>0_11</td>\n",
       "      <td>0.967033</td>\n",
       "      <td>13.705900</td>\n",
       "      <td>14.592256</td>\n",
       "      <td>14.590443</td>\n",
       "      <td>0.301292</td>\n",
       "    </tr>\n",
       "    <tr>\n",
       "      <th>2</th>\n",
       "      <td>1</td>\n",
       "      <td>12</td>\n",
       "      <td>0_12</td>\n",
       "      <td>0.967553</td>\n",
       "      <td>487.649677</td>\n",
       "      <td>2.460783</td>\n",
       "      <td>87.136394</td>\n",
       "      <td>0.506548</td>\n",
       "    </tr>\n",
       "    <tr>\n",
       "      <th>3</th>\n",
       "      <td>1</td>\n",
       "      <td>13</td>\n",
       "      <td>0_13</td>\n",
       "      <td>0.961538</td>\n",
       "      <td>70.086987</td>\n",
       "      <td>8.560790</td>\n",
       "      <td>32.529606</td>\n",
       "      <td>0.340241</td>\n",
       "    </tr>\n",
       "    <tr>\n",
       "      <th>4</th>\n",
       "      <td>1</td>\n",
       "      <td>14</td>\n",
       "      <td>0_14</td>\n",
       "      <td>0.974747</td>\n",
       "      <td>420.833417</td>\n",
       "      <td>4.277227</td>\n",
       "      <td>78.071054</td>\n",
       "      <td>0.381112</td>\n",
       "    </tr>\n",
       "    <tr>\n",
       "      <th>...</th>\n",
       "      <td>...</td>\n",
       "      <td>...</td>\n",
       "      <td>...</td>\n",
       "      <td>...</td>\n",
       "      <td>...</td>\n",
       "      <td>...</td>\n",
       "      <td>...</td>\n",
       "      <td>...</td>\n",
       "    </tr>\n",
       "    <tr>\n",
       "      <th>90061</th>\n",
       "      <td>98</td>\n",
       "      <td>657</td>\n",
       "      <td>634_657</td>\n",
       "      <td>0.788834</td>\n",
       "      <td>374.108759</td>\n",
       "      <td>1.871114</td>\n",
       "      <td>102.786982</td>\n",
       "      <td>2.095467</td>\n",
       "    </tr>\n",
       "    <tr>\n",
       "      <th>90062</th>\n",
       "      <td>98</td>\n",
       "      <td>658</td>\n",
       "      <td>634_658</td>\n",
       "      <td>1.000000</td>\n",
       "      <td>0.622995</td>\n",
       "      <td>0.000000</td>\n",
       "      <td>3.157202</td>\n",
       "      <td>0.000000</td>\n",
       "    </tr>\n",
       "    <tr>\n",
       "      <th>90063</th>\n",
       "      <td>98</td>\n",
       "      <td>659</td>\n",
       "      <td>634_659</td>\n",
       "      <td>0.965517</td>\n",
       "      <td>4.360968</td>\n",
       "      <td>22.930689</td>\n",
       "      <td>8.084522</td>\n",
       "      <td>0.249599</td>\n",
       "    </tr>\n",
       "    <tr>\n",
       "      <th>90064</th>\n",
       "      <td>98</td>\n",
       "      <td>660</td>\n",
       "      <td>634_660</td>\n",
       "      <td>0.898734</td>\n",
       "      <td>11.058169</td>\n",
       "      <td>36.172354</td>\n",
       "      <td>15.842106</td>\n",
       "      <td>0.290443</td>\n",
       "    </tr>\n",
       "    <tr>\n",
       "      <th>90065</th>\n",
       "      <td>98</td>\n",
       "      <td>666</td>\n",
       "      <td>634_666</td>\n",
       "      <td>0.901754</td>\n",
       "      <td>120.082370</td>\n",
       "      <td>8.327617</td>\n",
       "      <td>47.717833</td>\n",
       "      <td>0.590924</td>\n",
       "    </tr>\n",
       "  </tbody>\n",
       "</table>\n",
       "<p>90066 rows × 8 columns</p>\n",
       "</div>"
      ],
      "text/plain": [
       "       img  pore_number image_index  solidity        area  defect_density  \\\n",
       "0        1           10        0_10  1.000000    2.647731        0.000000   \n",
       "1        1           11        0_11  0.967033   13.705900       14.592256   \n",
       "2        1           12        0_12  0.967553  487.649677        2.460783   \n",
       "3        1           13        0_13  0.961538   70.086987        8.560790   \n",
       "4        1           14        0_14  0.974747  420.833417        4.277227   \n",
       "...    ...          ...         ...       ...         ...             ...   \n",
       "90061   98          657     634_657  0.788834  374.108759        1.871114   \n",
       "90062   98          658     634_658  1.000000    0.622995        0.000000   \n",
       "90063   98          659     634_659  0.965517    4.360968       22.930689   \n",
       "90064   98          660     634_660  0.898734   11.058169       36.172354   \n",
       "90065   98          666     634_666  0.901754  120.082370        8.327617   \n",
       "\n",
       "        perimeter  mean_defect  \n",
       "0        6.178982     0.000000  \n",
       "1       14.590443     0.301292  \n",
       "2       87.136394     0.506548  \n",
       "3       32.529606     0.340241  \n",
       "4       78.071054     0.381112  \n",
       "...           ...          ...  \n",
       "90061  102.786982     2.095467  \n",
       "90062    3.157202     0.000000  \n",
       "90063    8.084522     0.249599  \n",
       "90064   15.842106     0.290443  \n",
       "90065   47.717833     0.590924  \n",
       "\n",
       "[90066 rows x 8 columns]"
      ]
     },
     "execution_count": 3,
     "metadata": {},
     "output_type": "execute_result"
    }
   ],
   "source": [
    "dataframe = pd.read_csv('Images/Ti6Al4V_Analysis/Ti6Al4V_Pore_Features.csv', sep=';', decimal=\",\")\n",
    "dataframe"
   ]
  },
  {
   "cell_type": "markdown",
   "id": "7838f6b5-6e2e-4c27-bea8-82a5202a3348",
   "metadata": {
    "tags": []
   },
   "source": [
    "# Import Labeled Data"
   ]
  },
  {
   "cell_type": "code",
   "execution_count": 4,
   "id": "7f652c2d-79d0-4206-a64a-2251a0c767d3",
   "metadata": {},
   "outputs": [],
   "source": [
    "# loading image names for the pores in the label folders\n",
    "images_kh = [filepath for filepath in glob.iglob('Images\\Ti6Al4V_Analysis\\labeled\\Keyhole\\*.jpg')]\n",
    "images_lof = [filepath for filepath in glob.iglob('Images\\Ti6Al4V_Analysis\\labeled\\Lack_of_Fusion\\*.jpg')]\n",
    "images_process = [filepath for filepath in glob.iglob('Images\\Ti6Al4V_Analysis\\labeled\\Process\\*.jpg')]"
   ]
  },
  {
   "cell_type": "code",
   "execution_count": 5,
   "id": "b7e21dde-ff64-48de-b661-b86e91bea65e",
   "metadata": {},
   "outputs": [],
   "source": [
    "# loading images and label number \n",
    "img = []\n",
    "labels = []\n",
    "for image in images_kh:\n",
    "    img.append(cv.resize(cv.imread(image, cv.IMREAD_GRAYSCALE), dsize=(100, 100), interpolation=cv.INTER_CUBIC))\n",
    "    # img.append(cv.imread(image, cv.IMREAD_GRAYSCALE))\n",
    "    labels.append(0)\n",
    "    \n",
    "for image in images_lof:\n",
    "    img.append(cv.resize(cv.imread(image, cv.IMREAD_GRAYSCALE), dsize=(100, 100), interpolation=cv.INTER_CUBIC))\n",
    "    # img.append(cv.imread(image, cv.IMREAD_GRAYSCALE))\n",
    "    labels.append(1)\n",
    "    \n",
    "for image in images_process:\n",
    "    img.append(cv.resize(cv.imread(image, cv.IMREAD_GRAYSCALE), dsize=(100, 100), interpolation=cv.INTER_CUBIC))\n",
    "    # img.append(cv.imread(image, cv.IMREAD_GRAYSCALE))\n",
    "    labels.append(2)\n",
    "    \n",
    "images = images_kh + images_lof + images_process"
   ]
  },
  {
   "cell_type": "code",
   "execution_count": 6,
   "id": "75beeebc-f8ef-456a-b320-4d9e66dba0ad",
   "metadata": {},
   "outputs": [
    {
     "data": {
      "text/plain": [
       "1200"
      ]
     },
     "execution_count": 6,
     "metadata": {},
     "output_type": "execute_result"
    }
   ],
   "source": [
    "len(img)"
   ]
  },
  {
   "cell_type": "markdown",
   "id": "5f0cbcdc-6e38-4800-81ab-011b9aad9cf6",
   "metadata": {
    "tags": []
   },
   "source": [
    "## Pixelfeatures"
   ]
  },
  {
   "cell_type": "code",
   "execution_count": 5,
   "id": "2c373b22-2f10-4eb0-845e-136e81b86bbd",
   "metadata": {},
   "outputs": [],
   "source": [
    "# flattening images into one long vector\n",
    "data_px = Preprocessing(img)"
   ]
  },
  {
   "cell_type": "code",
   "execution_count": 6,
   "id": "0668b012-ed59-4d96-9e56-733c3b99c0c9",
   "metadata": {},
   "outputs": [],
   "source": [
    "data_px.dataframe.to_csv('Images/Ti6Al4V_Analysis/Ti6Al4V_Pore_PX_flattened.csv', sep=';', decimal=\",\", index=False)"
   ]
  },
  {
   "cell_type": "code",
   "execution_count": 6,
   "id": "86333f14-8bef-4497-8ddc-5b63480ccec8",
   "metadata": {},
   "outputs": [
    {
     "name": "stdout",
     "output_type": "stream",
     "text": [
      "Varianz explained by PCA model with 250 Components is 96.888 %.\n"
     ]
    }
   ],
   "source": [
    "# linear dimension reduction to 250 principle components\n",
    "data_red = DimensionReductionPCA(data_px.dataframe, k=250)\n",
    "data_red.pca_explain()"
   ]
  },
  {
   "cell_type": "code",
   "execution_count": 7,
   "id": "5f12a260-53aa-4448-b611-42e21daed87a",
   "metadata": {},
   "outputs": [
    {
     "name": "stdout",
     "output_type": "stream",
     "text": [
      "PCA Model saved as Models/PCA_Model_Binary_RF.pickle\n"
     ]
    }
   ],
   "source": [
    "data_red.save_pca_model(name='Models/PCA_Model_Binary_RF')"
   ]
  },
  {
   "cell_type": "code",
   "execution_count": null,
   "id": "d5d03273-0888-4267-bd84-79456a713127",
   "metadata": {},
   "outputs": [],
   "source": [
    "# scaling data if wanted\n",
    "data_red = data_red.dataframe #.scale()"
   ]
  },
  {
   "cell_type": "markdown",
   "id": "b8a2e6e9-2288-4106-a0a7-82c208dc957d",
   "metadata": {
    "tags": []
   },
   "source": [
    "## Local Features"
   ]
  },
  {
   "cell_type": "code",
   "execution_count": 9,
   "id": "65c40857-6671-40b3-88c6-a50bef1d840e",
   "metadata": {},
   "outputs": [
    {
     "name": "stderr",
     "output_type": "stream",
     "text": [
      "C:\\Users\\altmann\\AppData\\Local\\Temp\\ipykernel_7948\\4138243829.py:21: SettingWithCopyWarning: \n",
      "A value is trying to be set on a copy of a slice from a DataFrame.\n",
      "Try using .loc[row_indexer,col_indexer] = value instead\n",
      "\n",
      "See the caveats in the documentation: https://pandas.pydata.org/pandas-docs/stable/user_guide/indexing.html#returning-a-view-versus-a-copy\n",
      "  local_features['label'] = labels\n"
     ]
    },
    {
     "data": {
      "text/html": [
       "<div>\n",
       "<style scoped>\n",
       "    .dataframe tbody tr th:only-of-type {\n",
       "        vertical-align: middle;\n",
       "    }\n",
       "\n",
       "    .dataframe tbody tr th {\n",
       "        vertical-align: top;\n",
       "    }\n",
       "\n",
       "    .dataframe thead th {\n",
       "        text-align: right;\n",
       "    }\n",
       "</style>\n",
       "<table border=\"1\" class=\"dataframe\">\n",
       "  <thead>\n",
       "    <tr style=\"text-align: right;\">\n",
       "      <th></th>\n",
       "      <th>img</th>\n",
       "      <th>pore_number</th>\n",
       "      <th>image_index</th>\n",
       "      <th>solidity</th>\n",
       "      <th>area</th>\n",
       "      <th>defect_density</th>\n",
       "      <th>perimeter</th>\n",
       "      <th>mean_defect</th>\n",
       "      <th>label</th>\n",
       "    </tr>\n",
       "  </thead>\n",
       "  <tbody>\n",
       "    <tr>\n",
       "      <th>0</th>\n",
       "      <td>1</td>\n",
       "      <td>10</td>\n",
       "      <td>0_10</td>\n",
       "      <td>1.000000</td>\n",
       "      <td>2.647731</td>\n",
       "      <td>0.000000</td>\n",
       "      <td>6.178982</td>\n",
       "      <td>0.000000</td>\n",
       "      <td>0</td>\n",
       "    </tr>\n",
       "    <tr>\n",
       "      <th>1</th>\n",
       "      <td>1</td>\n",
       "      <td>11</td>\n",
       "      <td>0_11</td>\n",
       "      <td>0.967033</td>\n",
       "      <td>13.705900</td>\n",
       "      <td>14.592256</td>\n",
       "      <td>14.590443</td>\n",
       "      <td>0.301292</td>\n",
       "      <td>0</td>\n",
       "    </tr>\n",
       "    <tr>\n",
       "      <th>5</th>\n",
       "      <td>1</td>\n",
       "      <td>15</td>\n",
       "      <td>0_15</td>\n",
       "      <td>0.983010</td>\n",
       "      <td>2469.086661</td>\n",
       "      <td>1.579531</td>\n",
       "      <td>192.730405</td>\n",
       "      <td>0.448664</td>\n",
       "      <td>0</td>\n",
       "    </tr>\n",
       "    <tr>\n",
       "      <th>6</th>\n",
       "      <td>1</td>\n",
       "      <td>17</td>\n",
       "      <td>0_17</td>\n",
       "      <td>0.964029</td>\n",
       "      <td>20.870347</td>\n",
       "      <td>19.165949</td>\n",
       "      <td>17.285284</td>\n",
       "      <td>0.275446</td>\n",
       "      <td>0</td>\n",
       "    </tr>\n",
       "    <tr>\n",
       "      <th>10</th>\n",
       "      <td>1</td>\n",
       "      <td>22</td>\n",
       "      <td>0_22</td>\n",
       "      <td>1.000000</td>\n",
       "      <td>5.139712</td>\n",
       "      <td>0.000000</td>\n",
       "      <td>8.411461</td>\n",
       "      <td>0.000000</td>\n",
       "      <td>0</td>\n",
       "    </tr>\n",
       "    <tr>\n",
       "      <th>...</th>\n",
       "      <td>...</td>\n",
       "      <td>...</td>\n",
       "      <td>...</td>\n",
       "      <td>...</td>\n",
       "      <td>...</td>\n",
       "      <td>...</td>\n",
       "      <td>...</td>\n",
       "      <td>...</td>\n",
       "      <td>...</td>\n",
       "    </tr>\n",
       "    <tr>\n",
       "      <th>90055</th>\n",
       "      <td>98</td>\n",
       "      <td>651</td>\n",
       "      <td>634_651</td>\n",
       "      <td>0.848485</td>\n",
       "      <td>4.360968</td>\n",
       "      <td>45.861377</td>\n",
       "      <td>9.200762</td>\n",
       "      <td>0.379539</td>\n",
       "      <td>2</td>\n",
       "    </tr>\n",
       "    <tr>\n",
       "      <th>90061</th>\n",
       "      <td>98</td>\n",
       "      <td>657</td>\n",
       "      <td>634_657</td>\n",
       "      <td>0.788834</td>\n",
       "      <td>374.108759</td>\n",
       "      <td>1.871114</td>\n",
       "      <td>102.786982</td>\n",
       "      <td>2.095467</td>\n",
       "      <td>2</td>\n",
       "    </tr>\n",
       "    <tr>\n",
       "      <th>90063</th>\n",
       "      <td>98</td>\n",
       "      <td>659</td>\n",
       "      <td>634_659</td>\n",
       "      <td>0.965517</td>\n",
       "      <td>4.360968</td>\n",
       "      <td>22.930689</td>\n",
       "      <td>8.084522</td>\n",
       "      <td>0.249599</td>\n",
       "      <td>2</td>\n",
       "    </tr>\n",
       "    <tr>\n",
       "      <th>90064</th>\n",
       "      <td>98</td>\n",
       "      <td>660</td>\n",
       "      <td>634_660</td>\n",
       "      <td>0.898734</td>\n",
       "      <td>11.058169</td>\n",
       "      <td>36.172354</td>\n",
       "      <td>15.842106</td>\n",
       "      <td>0.290443</td>\n",
       "      <td>2</td>\n",
       "    </tr>\n",
       "    <tr>\n",
       "      <th>90065</th>\n",
       "      <td>98</td>\n",
       "      <td>666</td>\n",
       "      <td>634_666</td>\n",
       "      <td>0.901754</td>\n",
       "      <td>120.082370</td>\n",
       "      <td>8.327617</td>\n",
       "      <td>47.717833</td>\n",
       "      <td>0.590924</td>\n",
       "      <td>2</td>\n",
       "    </tr>\n",
       "  </tbody>\n",
       "</table>\n",
       "<p>1200 rows × 9 columns</p>\n",
       "</div>"
      ],
      "text/plain": [
       "       img  pore_number image_index  solidity         area  defect_density  \\\n",
       "0        1           10        0_10  1.000000     2.647731        0.000000   \n",
       "1        1           11        0_11  0.967033    13.705900       14.592256   \n",
       "5        1           15        0_15  0.983010  2469.086661        1.579531   \n",
       "6        1           17        0_17  0.964029    20.870347       19.165949   \n",
       "10       1           22        0_22  1.000000     5.139712        0.000000   \n",
       "...    ...          ...         ...       ...          ...             ...   \n",
       "90055   98          651     634_651  0.848485     4.360968       45.861377   \n",
       "90061   98          657     634_657  0.788834   374.108759        1.871114   \n",
       "90063   98          659     634_659  0.965517     4.360968       22.930689   \n",
       "90064   98          660     634_660  0.898734    11.058169       36.172354   \n",
       "90065   98          666     634_666  0.901754   120.082370        8.327617   \n",
       "\n",
       "        perimeter  mean_defect  label  \n",
       "0        6.178982     0.000000      0  \n",
       "1       14.590443     0.301292      0  \n",
       "5      192.730405     0.448664      0  \n",
       "6       17.285284     0.275446      0  \n",
       "10       8.411461     0.000000      0  \n",
       "...           ...          ...    ...  \n",
       "90055    9.200762     0.379539      2  \n",
       "90061  102.786982     2.095467      2  \n",
       "90063    8.084522     0.249599      2  \n",
       "90064   15.842106     0.290443      2  \n",
       "90065   47.717833     0.590924      2  \n",
       "\n",
       "[1200 rows x 9 columns]"
      ]
     },
     "execution_count": 9,
     "metadata": {},
     "output_type": "execute_result"
    }
   ],
   "source": [
    "# all features are contained in dataframe --> extracted features of all pores in dataset \n",
    "\n",
    "# slicing name of image\n",
    "names_kh = [os.path.splitext(os.path.split(image)[1])[0] for image in images_kh]\n",
    "names_lof = [os.path.splitext(os.path.split(image)[1])[0] for image in images_lof]\n",
    "names_process = [os.path.splitext(os.path.split(image)[1])[0] for image in images_process]\n",
    "\n",
    "# combining lists\n",
    "labeled_pores = names_kh + names_lof + names_process\n",
    "\n",
    "# selecting rows by combined list\n",
    "local_features = dataframe[dataframe['image_index'].isin(labeled_pores)]\n",
    "\n",
    "# adding label to dataframe\n",
    "key_hole = [0 for i in range(len(names_kh))]\n",
    "lof = [1 for i in range(len(names_lof))]\n",
    "process = [2 for i in range(len(names_process))]\n",
    "\n",
    "labels = key_hole + lof + process\n",
    "    \n",
    "local_features['label'] = labels\n",
    "\n",
    "local_features\n",
    "\n",
    "# local_features.to_csv('Images/Ti6Al4V_Analysis/Ti6Al4V_local_defect_features.csv', sep=';', decimal=\",\", index=False)"
   ]
  },
  {
   "cell_type": "markdown",
   "id": "5e8fc9f5-65f1-4e71-9340-21c75d002d90",
   "metadata": {
    "tags": []
   },
   "source": [
    "# Unsupervised Models"
   ]
  },
  {
   "cell_type": "markdown",
   "id": "e3b83ea5-e8f1-4afd-8193-a2527b2282e4",
   "metadata": {
    "tags": []
   },
   "source": [
    "## kMeans"
   ]
  },
  {
   "cell_type": "code",
   "execution_count": 8,
   "id": "c31d8534-843c-42c2-aa34-c46d63fcbb6f",
   "metadata": {},
   "outputs": [
    {
     "data": {
      "text/html": [
       "<div>\n",
       "<style scoped>\n",
       "    .dataframe tbody tr th:only-of-type {\n",
       "        vertical-align: middle;\n",
       "    }\n",
       "\n",
       "    .dataframe tbody tr th {\n",
       "        vertical-align: top;\n",
       "    }\n",
       "\n",
       "    .dataframe thead th {\n",
       "        text-align: right;\n",
       "    }\n",
       "</style>\n",
       "<table border=\"1\" class=\"dataframe\">\n",
       "  <thead>\n",
       "    <tr style=\"text-align: right;\">\n",
       "      <th></th>\n",
       "      <th>pca0</th>\n",
       "      <th>pca1</th>\n",
       "      <th>pca2</th>\n",
       "      <th>pca3</th>\n",
       "      <th>pca4</th>\n",
       "      <th>pca5</th>\n",
       "      <th>pca6</th>\n",
       "      <th>pca7</th>\n",
       "      <th>pca8</th>\n",
       "      <th>pca9</th>\n",
       "      <th>...</th>\n",
       "      <th>pca241</th>\n",
       "      <th>pca242</th>\n",
       "      <th>pca243</th>\n",
       "      <th>pca244</th>\n",
       "      <th>pca245</th>\n",
       "      <th>pca246</th>\n",
       "      <th>pca247</th>\n",
       "      <th>pca248</th>\n",
       "      <th>pca249</th>\n",
       "      <th>labels</th>\n",
       "    </tr>\n",
       "  </thead>\n",
       "  <tbody>\n",
       "    <tr>\n",
       "      <th>0</th>\n",
       "      <td>255.425598</td>\n",
       "      <td>-1785.702271</td>\n",
       "      <td>925.004456</td>\n",
       "      <td>-647.859558</td>\n",
       "      <td>558.293701</td>\n",
       "      <td>-352.141418</td>\n",
       "      <td>-539.285645</td>\n",
       "      <td>-457.659058</td>\n",
       "      <td>81.950119</td>\n",
       "      <td>-70.469582</td>\n",
       "      <td>...</td>\n",
       "      <td>-14.266523</td>\n",
       "      <td>47.727501</td>\n",
       "      <td>24.730694</td>\n",
       "      <td>-25.180429</td>\n",
       "      <td>40.024025</td>\n",
       "      <td>16.892918</td>\n",
       "      <td>53.906643</td>\n",
       "      <td>-17.681454</td>\n",
       "      <td>30.339476</td>\n",
       "      <td>0</td>\n",
       "    </tr>\n",
       "    <tr>\n",
       "      <th>1</th>\n",
       "      <td>803.354980</td>\n",
       "      <td>-2022.260864</td>\n",
       "      <td>837.281555</td>\n",
       "      <td>433.116974</td>\n",
       "      <td>-408.251678</td>\n",
       "      <td>193.452789</td>\n",
       "      <td>582.161194</td>\n",
       "      <td>264.769287</td>\n",
       "      <td>-683.036194</td>\n",
       "      <td>174.103912</td>\n",
       "      <td>...</td>\n",
       "      <td>-2.078821</td>\n",
       "      <td>35.566795</td>\n",
       "      <td>15.871997</td>\n",
       "      <td>-34.090492</td>\n",
       "      <td>-36.830696</td>\n",
       "      <td>-15.575199</td>\n",
       "      <td>-51.617443</td>\n",
       "      <td>-81.089500</td>\n",
       "      <td>-49.171860</td>\n",
       "      <td>0</td>\n",
       "    </tr>\n",
       "    <tr>\n",
       "      <th>2</th>\n",
       "      <td>2319.719727</td>\n",
       "      <td>-2092.848877</td>\n",
       "      <td>-420.375305</td>\n",
       "      <td>-251.272079</td>\n",
       "      <td>512.934448</td>\n",
       "      <td>1146.280273</td>\n",
       "      <td>-162.358948</td>\n",
       "      <td>-497.942871</td>\n",
       "      <td>-366.308472</td>\n",
       "      <td>47.767113</td>\n",
       "      <td>...</td>\n",
       "      <td>-57.140324</td>\n",
       "      <td>-55.582756</td>\n",
       "      <td>57.236565</td>\n",
       "      <td>90.583664</td>\n",
       "      <td>-1.161246</td>\n",
       "      <td>14.537497</td>\n",
       "      <td>42.300175</td>\n",
       "      <td>-20.864361</td>\n",
       "      <td>-2.166484</td>\n",
       "      <td>0</td>\n",
       "    </tr>\n",
       "    <tr>\n",
       "      <th>3</th>\n",
       "      <td>-1407.126343</td>\n",
       "      <td>-684.353210</td>\n",
       "      <td>968.245789</td>\n",
       "      <td>23.670799</td>\n",
       "      <td>32.504410</td>\n",
       "      <td>-1071.493164</td>\n",
       "      <td>143.973633</td>\n",
       "      <td>79.708427</td>\n",
       "      <td>646.462952</td>\n",
       "      <td>-257.145782</td>\n",
       "      <td>...</td>\n",
       "      <td>64.606071</td>\n",
       "      <td>-6.576953</td>\n",
       "      <td>-96.657280</td>\n",
       "      <td>3.912672</td>\n",
       "      <td>-26.863323</td>\n",
       "      <td>26.665403</td>\n",
       "      <td>46.656254</td>\n",
       "      <td>-2.380642</td>\n",
       "      <td>48.228252</td>\n",
       "      <td>0</td>\n",
       "    </tr>\n",
       "    <tr>\n",
       "      <th>4</th>\n",
       "      <td>-963.219238</td>\n",
       "      <td>-1100.291626</td>\n",
       "      <td>1195.094727</td>\n",
       "      <td>-167.957077</td>\n",
       "      <td>82.295097</td>\n",
       "      <td>-1099.581055</td>\n",
       "      <td>-66.005585</td>\n",
       "      <td>140.388641</td>\n",
       "      <td>540.216675</td>\n",
       "      <td>-121.797462</td>\n",
       "      <td>...</td>\n",
       "      <td>25.663364</td>\n",
       "      <td>-57.522728</td>\n",
       "      <td>5.548359</td>\n",
       "      <td>0.370564</td>\n",
       "      <td>27.228884</td>\n",
       "      <td>-36.064571</td>\n",
       "      <td>-23.228437</td>\n",
       "      <td>-37.614681</td>\n",
       "      <td>67.636894</td>\n",
       "      <td>0</td>\n",
       "    </tr>\n",
       "    <tr>\n",
       "      <th>...</th>\n",
       "      <td>...</td>\n",
       "      <td>...</td>\n",
       "      <td>...</td>\n",
       "      <td>...</td>\n",
       "      <td>...</td>\n",
       "      <td>...</td>\n",
       "      <td>...</td>\n",
       "      <td>...</td>\n",
       "      <td>...</td>\n",
       "      <td>...</td>\n",
       "      <td>...</td>\n",
       "      <td>...</td>\n",
       "      <td>...</td>\n",
       "      <td>...</td>\n",
       "      <td>...</td>\n",
       "      <td>...</td>\n",
       "      <td>...</td>\n",
       "      <td>...</td>\n",
       "      <td>...</td>\n",
       "      <td>...</td>\n",
       "      <td>...</td>\n",
       "    </tr>\n",
       "    <tr>\n",
       "      <th>1195</th>\n",
       "      <td>-2778.831543</td>\n",
       "      <td>924.899963</td>\n",
       "      <td>-434.967377</td>\n",
       "      <td>-16.103178</td>\n",
       "      <td>-23.349348</td>\n",
       "      <td>242.882431</td>\n",
       "      <td>-37.833126</td>\n",
       "      <td>-41.775177</td>\n",
       "      <td>-119.164337</td>\n",
       "      <td>43.505074</td>\n",
       "      <td>...</td>\n",
       "      <td>11.097609</td>\n",
       "      <td>-11.073200</td>\n",
       "      <td>-13.253596</td>\n",
       "      <td>5.406798</td>\n",
       "      <td>-17.156864</td>\n",
       "      <td>-7.780338</td>\n",
       "      <td>-24.389185</td>\n",
       "      <td>-10.724975</td>\n",
       "      <td>-5.443770</td>\n",
       "      <td>2</td>\n",
       "    </tr>\n",
       "    <tr>\n",
       "      <th>1196</th>\n",
       "      <td>-2698.895264</td>\n",
       "      <td>819.713989</td>\n",
       "      <td>-325.541809</td>\n",
       "      <td>-12.013907</td>\n",
       "      <td>-24.603376</td>\n",
       "      <td>109.989647</td>\n",
       "      <td>-37.048916</td>\n",
       "      <td>-21.737972</td>\n",
       "      <td>-2.622002</td>\n",
       "      <td>6.201177</td>\n",
       "      <td>...</td>\n",
       "      <td>-13.437889</td>\n",
       "      <td>-0.313441</td>\n",
       "      <td>-10.381701</td>\n",
       "      <td>19.763344</td>\n",
       "      <td>25.998217</td>\n",
       "      <td>-5.259857</td>\n",
       "      <td>3.201698</td>\n",
       "      <td>-32.150646</td>\n",
       "      <td>-23.819143</td>\n",
       "      <td>2</td>\n",
       "    </tr>\n",
       "    <tr>\n",
       "      <th>1197</th>\n",
       "      <td>-2780.819824</td>\n",
       "      <td>928.235535</td>\n",
       "      <td>-437.094635</td>\n",
       "      <td>-16.398756</td>\n",
       "      <td>-21.832441</td>\n",
       "      <td>247.764145</td>\n",
       "      <td>-35.915752</td>\n",
       "      <td>-42.458527</td>\n",
       "      <td>-121.828156</td>\n",
       "      <td>43.289146</td>\n",
       "      <td>...</td>\n",
       "      <td>16.934982</td>\n",
       "      <td>-24.733269</td>\n",
       "      <td>-19.361279</td>\n",
       "      <td>6.819247</td>\n",
       "      <td>-23.084692</td>\n",
       "      <td>-11.625570</td>\n",
       "      <td>1.362972</td>\n",
       "      <td>-16.261547</td>\n",
       "      <td>-4.318679</td>\n",
       "      <td>2</td>\n",
       "    </tr>\n",
       "    <tr>\n",
       "      <th>1198</th>\n",
       "      <td>-2794.181641</td>\n",
       "      <td>948.835876</td>\n",
       "      <td>-456.649323</td>\n",
       "      <td>-16.779737</td>\n",
       "      <td>-22.549208</td>\n",
       "      <td>278.220184</td>\n",
       "      <td>-31.817270</td>\n",
       "      <td>-44.791748</td>\n",
       "      <td>-148.217529</td>\n",
       "      <td>50.467155</td>\n",
       "      <td>...</td>\n",
       "      <td>-2.029772</td>\n",
       "      <td>-4.704618</td>\n",
       "      <td>9.033099</td>\n",
       "      <td>5.793400</td>\n",
       "      <td>-10.758887</td>\n",
       "      <td>-7.331745</td>\n",
       "      <td>1.210876</td>\n",
       "      <td>-14.464475</td>\n",
       "      <td>-0.857857</td>\n",
       "      <td>2</td>\n",
       "    </tr>\n",
       "    <tr>\n",
       "      <th>1199</th>\n",
       "      <td>-2736.962158</td>\n",
       "      <td>871.259827</td>\n",
       "      <td>-377.366730</td>\n",
       "      <td>-14.921387</td>\n",
       "      <td>-28.683245</td>\n",
       "      <td>177.661697</td>\n",
       "      <td>-41.354248</td>\n",
       "      <td>-23.649105</td>\n",
       "      <td>-61.640751</td>\n",
       "      <td>28.548815</td>\n",
       "      <td>...</td>\n",
       "      <td>-6.479548</td>\n",
       "      <td>39.464157</td>\n",
       "      <td>14.158841</td>\n",
       "      <td>-25.686359</td>\n",
       "      <td>29.012897</td>\n",
       "      <td>39.763054</td>\n",
       "      <td>16.163700</td>\n",
       "      <td>17.226551</td>\n",
       "      <td>11.307834</td>\n",
       "      <td>2</td>\n",
       "    </tr>\n",
       "  </tbody>\n",
       "</table>\n",
       "<p>1200 rows × 251 columns</p>\n",
       "</div>"
      ],
      "text/plain": [
       "             pca0         pca1         pca2        pca3        pca4  \\\n",
       "0      255.425598 -1785.702271   925.004456 -647.859558  558.293701   \n",
       "1      803.354980 -2022.260864   837.281555  433.116974 -408.251678   \n",
       "2     2319.719727 -2092.848877  -420.375305 -251.272079  512.934448   \n",
       "3    -1407.126343  -684.353210   968.245789   23.670799   32.504410   \n",
       "4     -963.219238 -1100.291626  1195.094727 -167.957077   82.295097   \n",
       "...           ...          ...          ...         ...         ...   \n",
       "1195 -2778.831543   924.899963  -434.967377  -16.103178  -23.349348   \n",
       "1196 -2698.895264   819.713989  -325.541809  -12.013907  -24.603376   \n",
       "1197 -2780.819824   928.235535  -437.094635  -16.398756  -21.832441   \n",
       "1198 -2794.181641   948.835876  -456.649323  -16.779737  -22.549208   \n",
       "1199 -2736.962158   871.259827  -377.366730  -14.921387  -28.683245   \n",
       "\n",
       "             pca5        pca6        pca7        pca8        pca9  ...  \\\n",
       "0     -352.141418 -539.285645 -457.659058   81.950119  -70.469582  ...   \n",
       "1      193.452789  582.161194  264.769287 -683.036194  174.103912  ...   \n",
       "2     1146.280273 -162.358948 -497.942871 -366.308472   47.767113  ...   \n",
       "3    -1071.493164  143.973633   79.708427  646.462952 -257.145782  ...   \n",
       "4    -1099.581055  -66.005585  140.388641  540.216675 -121.797462  ...   \n",
       "...           ...         ...         ...         ...         ...  ...   \n",
       "1195   242.882431  -37.833126  -41.775177 -119.164337   43.505074  ...   \n",
       "1196   109.989647  -37.048916  -21.737972   -2.622002    6.201177  ...   \n",
       "1197   247.764145  -35.915752  -42.458527 -121.828156   43.289146  ...   \n",
       "1198   278.220184  -31.817270  -44.791748 -148.217529   50.467155  ...   \n",
       "1199   177.661697  -41.354248  -23.649105  -61.640751   28.548815  ...   \n",
       "\n",
       "         pca241     pca242     pca243     pca244     pca245     pca246  \\\n",
       "0    -14.266523  47.727501  24.730694 -25.180429  40.024025  16.892918   \n",
       "1     -2.078821  35.566795  15.871997 -34.090492 -36.830696 -15.575199   \n",
       "2    -57.140324 -55.582756  57.236565  90.583664  -1.161246  14.537497   \n",
       "3     64.606071  -6.576953 -96.657280   3.912672 -26.863323  26.665403   \n",
       "4     25.663364 -57.522728   5.548359   0.370564  27.228884 -36.064571   \n",
       "...         ...        ...        ...        ...        ...        ...   \n",
       "1195  11.097609 -11.073200 -13.253596   5.406798 -17.156864  -7.780338   \n",
       "1196 -13.437889  -0.313441 -10.381701  19.763344  25.998217  -5.259857   \n",
       "1197  16.934982 -24.733269 -19.361279   6.819247 -23.084692 -11.625570   \n",
       "1198  -2.029772  -4.704618   9.033099   5.793400 -10.758887  -7.331745   \n",
       "1199  -6.479548  39.464157  14.158841 -25.686359  29.012897  39.763054   \n",
       "\n",
       "         pca247     pca248     pca249  labels  \n",
       "0     53.906643 -17.681454  30.339476       0  \n",
       "1    -51.617443 -81.089500 -49.171860       0  \n",
       "2     42.300175 -20.864361  -2.166484       0  \n",
       "3     46.656254  -2.380642  48.228252       0  \n",
       "4    -23.228437 -37.614681  67.636894       0  \n",
       "...         ...        ...        ...     ...  \n",
       "1195 -24.389185 -10.724975  -5.443770       2  \n",
       "1196   3.201698 -32.150646 -23.819143       2  \n",
       "1197   1.362972 -16.261547  -4.318679       2  \n",
       "1198   1.210876 -14.464475  -0.857857       2  \n",
       "1199  16.163700  17.226551  11.307834       2  \n",
       "\n",
       "[1200 rows x 251 columns]"
      ]
     },
     "execution_count": 8,
     "metadata": {},
     "output_type": "execute_result"
    }
   ],
   "source": [
    "data_red_labeled = data_red.dataframe\n",
    "data_red_labeled['labels'] = labels\n",
    "data_red_labeled"
   ]
  },
  {
   "cell_type": "code",
   "execution_count": 9,
   "id": "2dd84860-c4cd-4296-92ea-86a5b7933344",
   "metadata": {},
   "outputs": [],
   "source": [
    "X = data_red_labeled.drop(['labels'], axis=1)\n",
    "Y = data_red_labeled['labels']"
   ]
  },
  {
   "cell_type": "code",
   "execution_count": 10,
   "id": "417e12ae-63b1-455b-ab06-b30ad4e2e8ac",
   "metadata": {},
   "outputs": [],
   "source": [
    "# splitting data into training and test partition\n",
    "X_train, X_test, y_train, y_test = train_test_split(X, Y, test_size=0.3)"
   ]
  },
  {
   "cell_type": "code",
   "execution_count": 18,
   "id": "8e82a915-c9c5-4652-a5af-006c2278a7aa",
   "metadata": {},
   "outputs": [
    {
     "name": "stderr",
     "output_type": "stream",
     "text": [
      "C:\\Users\\altmann\\Miniconda3\\envs\\poreClustering\\lib\\site-packages\\sklearn\\cluster\\_kmeans.py:870: FutureWarning: The default value of `n_init` will change from 10 to 'auto' in 1.4. Set the value of `n_init` explicitly to suppress the warning\n",
      "  warnings.warn(\n",
      "C:\\Users\\altmann\\Miniconda3\\envs\\poreClustering\\lib\\site-packages\\sklearn\\cluster\\_kmeans.py:1382: UserWarning: KMeans is known to have a memory leak on Windows with MKL, when there are less chunks than available threads. You can avoid it by setting the environment variable OMP_NUM_THREADS=4.\n",
      "  warnings.warn(\n"
     ]
    },
    {
     "data": {
      "text/html": [
       "<style>#sk-container-id-1 {color: black;background-color: white;}#sk-container-id-1 pre{padding: 0;}#sk-container-id-1 div.sk-toggleable {background-color: white;}#sk-container-id-1 label.sk-toggleable__label {cursor: pointer;display: block;width: 100%;margin-bottom: 0;padding: 0.3em;box-sizing: border-box;text-align: center;}#sk-container-id-1 label.sk-toggleable__label-arrow:before {content: \"▸\";float: left;margin-right: 0.25em;color: #696969;}#sk-container-id-1 label.sk-toggleable__label-arrow:hover:before {color: black;}#sk-container-id-1 div.sk-estimator:hover label.sk-toggleable__label-arrow:before {color: black;}#sk-container-id-1 div.sk-toggleable__content {max-height: 0;max-width: 0;overflow: hidden;text-align: left;background-color: #f0f8ff;}#sk-container-id-1 div.sk-toggleable__content pre {margin: 0.2em;color: black;border-radius: 0.25em;background-color: #f0f8ff;}#sk-container-id-1 input.sk-toggleable__control:checked~div.sk-toggleable__content {max-height: 200px;max-width: 100%;overflow: auto;}#sk-container-id-1 input.sk-toggleable__control:checked~label.sk-toggleable__label-arrow:before {content: \"▾\";}#sk-container-id-1 div.sk-estimator input.sk-toggleable__control:checked~label.sk-toggleable__label {background-color: #d4ebff;}#sk-container-id-1 div.sk-label input.sk-toggleable__control:checked~label.sk-toggleable__label {background-color: #d4ebff;}#sk-container-id-1 input.sk-hidden--visually {border: 0;clip: rect(1px 1px 1px 1px);clip: rect(1px, 1px, 1px, 1px);height: 1px;margin: -1px;overflow: hidden;padding: 0;position: absolute;width: 1px;}#sk-container-id-1 div.sk-estimator {font-family: monospace;background-color: #f0f8ff;border: 1px dotted black;border-radius: 0.25em;box-sizing: border-box;margin-bottom: 0.5em;}#sk-container-id-1 div.sk-estimator:hover {background-color: #d4ebff;}#sk-container-id-1 div.sk-parallel-item::after {content: \"\";width: 100%;border-bottom: 1px solid gray;flex-grow: 1;}#sk-container-id-1 div.sk-label:hover label.sk-toggleable__label {background-color: #d4ebff;}#sk-container-id-1 div.sk-serial::before {content: \"\";position: absolute;border-left: 1px solid gray;box-sizing: border-box;top: 0;bottom: 0;left: 50%;z-index: 0;}#sk-container-id-1 div.sk-serial {display: flex;flex-direction: column;align-items: center;background-color: white;padding-right: 0.2em;padding-left: 0.2em;position: relative;}#sk-container-id-1 div.sk-item {position: relative;z-index: 1;}#sk-container-id-1 div.sk-parallel {display: flex;align-items: stretch;justify-content: center;background-color: white;position: relative;}#sk-container-id-1 div.sk-item::before, #sk-container-id-1 div.sk-parallel-item::before {content: \"\";position: absolute;border-left: 1px solid gray;box-sizing: border-box;top: 0;bottom: 0;left: 50%;z-index: -1;}#sk-container-id-1 div.sk-parallel-item {display: flex;flex-direction: column;z-index: 1;position: relative;background-color: white;}#sk-container-id-1 div.sk-parallel-item:first-child::after {align-self: flex-end;width: 50%;}#sk-container-id-1 div.sk-parallel-item:last-child::after {align-self: flex-start;width: 50%;}#sk-container-id-1 div.sk-parallel-item:only-child::after {width: 0;}#sk-container-id-1 div.sk-dashed-wrapped {border: 1px dashed gray;margin: 0 0.4em 0.5em 0.4em;box-sizing: border-box;padding-bottom: 0.4em;background-color: white;}#sk-container-id-1 div.sk-label label {font-family: monospace;font-weight: bold;display: inline-block;line-height: 1.2em;}#sk-container-id-1 div.sk-label-container {text-align: center;}#sk-container-id-1 div.sk-container {/* jupyter's `normalize.less` sets `[hidden] { display: none; }` but bootstrap.min.css set `[hidden] { display: none !important; }` so we also need the `!important` here to be able to override the default hidden behavior on the sphinx rendered scikit-learn.org. See: https://github.com/scikit-learn/scikit-learn/issues/21755 */display: inline-block !important;position: relative;}#sk-container-id-1 div.sk-text-repr-fallback {display: none;}</style><div id=\"sk-container-id-1\" class=\"sk-top-container\"><div class=\"sk-text-repr-fallback\"><pre>KMeans(n_clusters=3, random_state=42)</pre><b>In a Jupyter environment, please rerun this cell to show the HTML representation or trust the notebook. <br />On GitHub, the HTML representation is unable to render, please try loading this page with nbviewer.org.</b></div><div class=\"sk-container\" hidden><div class=\"sk-item\"><div class=\"sk-estimator sk-toggleable\"><input class=\"sk-toggleable__control sk-hidden--visually\" id=\"sk-estimator-id-1\" type=\"checkbox\" checked><label for=\"sk-estimator-id-1\" class=\"sk-toggleable__label sk-toggleable__label-arrow\">KMeans</label><div class=\"sk-toggleable__content\"><pre>KMeans(n_clusters=3, random_state=42)</pre></div></div></div></div></div>"
      ],
      "text/plain": [
       "KMeans(n_clusters=3, random_state=42)"
      ]
     },
     "execution_count": 18,
     "metadata": {},
     "output_type": "execute_result"
    }
   ],
   "source": [
    "k = 3\n",
    "kmeans = KMeans(n_clusters=k, random_state=42)\n",
    "kmeans.fit(X_train)"
   ]
  },
  {
   "cell_type": "code",
   "execution_count": 19,
   "id": "25b5bcb0-0278-4d47-8dc0-8a9e13c1dd68",
   "metadata": {},
   "outputs": [],
   "source": [
    "labels_pred_kmeans = kmeans.predict(X_test)"
   ]
  },
  {
   "cell_type": "code",
   "execution_count": 11,
   "id": "e3732e70-8db5-411c-935f-c9166ff6eaf2",
   "metadata": {},
   "outputs": [],
   "source": [
    "modelkmeans = KMeansClassifier(X_train)"
   ]
  },
  {
   "cell_type": "code",
   "execution_count": 12,
   "id": "e69cc6d8-e7e6-4620-a0ee-9613d285b94d",
   "metadata": {},
   "outputs": [
    {
     "name": "stderr",
     "output_type": "stream",
     "text": [
      "C:\\Users\\altmann\\Miniconda3\\envs\\poreClustering\\lib\\site-packages\\sklearn\\cluster\\_kmeans.py:1382: UserWarning: KMeans is known to have a memory leak on Windows with MKL, when there are less chunks than available threads. You can avoid it by setting the environment variable OMP_NUM_THREADS=4.\n",
      "  warnings.warn(\n"
     ]
    }
   ],
   "source": [
    "modelkmeans.train(k=3)"
   ]
  },
  {
   "cell_type": "code",
   "execution_count": 13,
   "id": "c8737efd-2503-4461-9802-f361398c042d",
   "metadata": {},
   "outputs": [],
   "source": [
    "labels_pred_kmeans = modelkmeans.predict(X_test)"
   ]
  },
  {
   "cell_type": "code",
   "execution_count": 20,
   "id": "05e292e9-41c0-4ae9-8ca5-e830f323d8e5",
   "metadata": {},
   "outputs": [
    {
     "data": {
      "text/plain": [
       "360"
      ]
     },
     "execution_count": 20,
     "metadata": {},
     "output_type": "execute_result"
    }
   ],
   "source": [
    "len(labels_pred_kmeans)"
   ]
  },
  {
   "cell_type": "code",
   "execution_count": 15,
   "id": "9dd850b2-1451-41c8-b174-bdefb91d2b02",
   "metadata": {},
   "outputs": [
    {
     "data": {
      "text/plain": [
       "360"
      ]
     },
     "execution_count": 15,
     "metadata": {},
     "output_type": "execute_result"
    }
   ],
   "source": [
    "len(X_test)"
   ]
  },
  {
   "cell_type": "code",
   "execution_count": 21,
   "id": "470f14bd-d417-4c22-a7d9-77a79972a909",
   "metadata": {},
   "outputs": [
    {
     "data": {
      "image/png": "[encoded data removed]",
      "text/plain": [
       "<Figure size 640x480 with 2 Axes>"
      ]
     },
     "metadata": {},
     "output_type": "display_data"
    }
   ],
   "source": [
    "cm = confusion_matrix(y_test, labels_pred_kmeans)\n",
    "\n",
    "ConfusionMatrixDisplay(confusion_matrix=cm).plot();"
   ]
  },
  {
   "cell_type": "code",
   "execution_count": null,
   "id": "4599e942-4518-4c74-999f-8eadeb77d37b",
   "metadata": {},
   "outputs": [],
   "source": [
    "try: \n",
    "    os.makedirs('Images/Ti6Al4V_Analysis/results/results_kmeans/0')\n",
    "    os.makedirs('Images/Ti6Al4V_Analysis/results/results_kmeans/1')\n",
    "    os.makedirs('Images/Ti6Al4V_Analysis/results/results_kmeans/2')\n",
    "    # os.makedirs('pore_label/3')\n",
    "except OSError:\n",
    "    pass\n",
    "    \n",
    "for i, image in enumerate(images):\n",
    "    label = labels_pred_kmeans[i]\n",
    "    img = cv.resize(cv.imread(image), dsize=(100, 100), interpolation=cv.INTER_CUBIC)\n",
    "    cv.imwrite('Images/Ti6Al4V_Analysis/results/results_kmeans/{}/{}.jpg'.format(label, i), img)"
   ]
  },
  {
   "cell_type": "markdown",
   "id": "a5692d17-4ed8-4a77-882c-b3b9a401ad5d",
   "metadata": {
    "jp-MarkdownHeadingCollapsed": true,
    "tags": []
   },
   "source": [
    "## DBSCAN"
   ]
  },
  {
   "cell_type": "markdown",
   "id": "67373261-03a8-4485-8b39-fb2303947c9f",
   "metadata": {
    "tags": []
   },
   "source": [
    "### Pixel Features"
   ]
  },
  {
   "cell_type": "code",
   "execution_count": null,
   "id": "d21315f6-b12d-4f0b-8d87-6e60cbf28ca3",
   "metadata": {},
   "outputs": [],
   "source": [
    "modeldbscan = DBSCANClassifier(data_red.scale(), n_neighbors=2, min_samples=2)"
   ]
  },
  {
   "cell_type": "code",
   "execution_count": null,
   "id": "2e73e9d6-abcc-4cf4-b3d3-193036afe15b",
   "metadata": {},
   "outputs": [],
   "source": [
    "modeldbscan.knee"
   ]
  },
  {
   "cell_type": "code",
   "execution_count": null,
   "id": "8a094ab5-639d-43b6-a70d-64d2a5634a63",
   "metadata": {},
   "outputs": [],
   "source": [
    "modeldbscan.n_clusters"
   ]
  },
  {
   "cell_type": "code",
   "execution_count": null,
   "id": "72b633d8-83ee-47e7-84cc-8a1b70394714",
   "metadata": {},
   "outputs": [],
   "source": [
    "labels_pred_dbscan = modeldbscan.labels"
   ]
  },
  {
   "cell_type": "code",
   "execution_count": null,
   "id": "fa1f601b-f45b-42f7-80c3-364cff6808ba",
   "metadata": {},
   "outputs": [],
   "source": [
    "for i in range(-1, modeldbscan.n_clusters, 1):\n",
    "    try:\n",
    "        os.makedirs('Images/Ti6Al4V_Analysis/results/results_dbscan/{}'.format(i))\n",
    "    except OSError:\n",
    "        pass\n",
    "    \n",
    "for i, image in enumerate(images):\n",
    "    label = labels_pred_dbscan[i]\n",
    "    img = cv.resize(cv.imread(image), dsize=(100, 100), interpolation=cv.INTER_CUBIC)\n",
    "    cv.imwrite('Images/Ti6Al4V_Analysis/results/results_dbscan/{}/{}.jpg'.format(label, i), img)"
   ]
  },
  {
   "cell_type": "code",
   "execution_count": null,
   "id": "cef38634-8f5e-4e82-aa03-fe9437f27a96",
   "metadata": {},
   "outputs": [],
   "source": [
    "cm = confusion_matrix(results['labels'], labels_pred_dbscan+1)\n",
    "\n",
    "ConfusionMatrixDisplay(confusion_matrix=cm).plot();"
   ]
  },
  {
   "cell_type": "markdown",
   "id": "cf856277-6784-4a5f-bdcb-64199fc8d861",
   "metadata": {
    "jp-MarkdownHeadingCollapsed": true,
    "tags": []
   },
   "source": [
    "### local Features"
   ]
  },
  {
   "cell_type": "code",
   "execution_count": null,
   "id": "94f7c6a3-cdbb-4bd9-8c28-194e637ea7d5",
   "metadata": {},
   "outputs": [],
   "source": [
    "modeldbscan_lf = DBSCANClassifier(X)"
   ]
  },
  {
   "cell_type": "code",
   "execution_count": null,
   "id": "21654256-660d-4943-9fe3-d7a2d0560735",
   "metadata": {},
   "outputs": [],
   "source": [
    "modeldbscan_lf.knee"
   ]
  },
  {
   "cell_type": "code",
   "execution_count": null,
   "id": "963f77c2-5b56-4895-9dcf-62ab15498c89",
   "metadata": {},
   "outputs": [],
   "source": [
    "modeldbscan_lf.n_clusters"
   ]
  },
  {
   "cell_type": "code",
   "execution_count": null,
   "id": "f06534f8-20b4-453a-b904-6f9525e752a1",
   "metadata": {},
   "outputs": [],
   "source": [
    "labels_pred_dbscan = modeldbscan_lf.labels"
   ]
  },
  {
   "cell_type": "code",
   "execution_count": null,
   "id": "baa95e7e-29e0-4f42-999a-5afe93eb40ab",
   "metadata": {},
   "outputs": [],
   "source": [
    "cm = confusion_matrix(sampling['label'], labels_pred_dbscan+1)\n",
    "\n",
    "ConfusionMatrixDisplay(confusion_matrix=cm).plot();"
   ]
  },
  {
   "cell_type": "markdown",
   "id": "3d7f53de-6c7c-49e7-9a59-3214b6a22425",
   "metadata": {
    "tags": []
   },
   "source": [
    "# Supervised Models"
   ]
  },
  {
   "cell_type": "markdown",
   "id": "3c8e44a1-a205-449e-90ca-00660c9cdd83",
   "metadata": {
    "tags": []
   },
   "source": [
    "## Binary Image Features"
   ]
  },
  {
   "cell_type": "code",
   "execution_count": 58,
   "id": "b206a135-e9fc-420a-be52-09eba68cad16",
   "metadata": {},
   "outputs": [],
   "source": [
    "# mixing data rows --> data shouldnt be sorted for splitting \n",
    "data_sample = results.copy().sample(frac=1).reset_index(drop=True)\n",
    "X = data_sample.drop(['labels'], axis=1)\n",
    "Y = data_sample['labels']"
   ]
  },
  {
   "cell_type": "code",
   "execution_count": 11,
   "id": "7ee2b19d-a9f2-4880-855d-5d0a83f0d0d9",
   "metadata": {},
   "outputs": [],
   "source": [
    "# scaling / normalizing the features\n",
    "\n",
    "# copy the dataframe\n",
    "df_norm = X.copy()\n",
    "# apply min-max scaling\n",
    "for column in df_norm.columns:\n",
    "    df_norm[column] = (df_norm[column] - df_norm[column].min()) / (df_norm[column].max() - df_norm[column].min())\n",
    "\n",
    "X = df_norm"
   ]
  },
  {
   "cell_type": "code",
   "execution_count": 59,
   "id": "4f932be2-c645-4b02-a8b5-36194e6b8eed",
   "metadata": {},
   "outputs": [
    {
     "data": {
      "text/html": [
       "<div>\n",
       "<style scoped>\n",
       "    .dataframe tbody tr th:only-of-type {\n",
       "        vertical-align: middle;\n",
       "    }\n",
       "\n",
       "    .dataframe tbody tr th {\n",
       "        vertical-align: top;\n",
       "    }\n",
       "\n",
       "    .dataframe thead th {\n",
       "        text-align: right;\n",
       "    }\n",
       "</style>\n",
       "<table border=\"1\" class=\"dataframe\">\n",
       "  <thead>\n",
       "    <tr style=\"text-align: right;\">\n",
       "      <th></th>\n",
       "      <th>pca0</th>\n",
       "      <th>pca1</th>\n",
       "      <th>pca2</th>\n",
       "      <th>pca3</th>\n",
       "      <th>pca4</th>\n",
       "      <th>pca5</th>\n",
       "      <th>pca6</th>\n",
       "      <th>pca7</th>\n",
       "      <th>pca8</th>\n",
       "      <th>pca9</th>\n",
       "      <th>...</th>\n",
       "      <th>pca241</th>\n",
       "      <th>pca242</th>\n",
       "      <th>pca243</th>\n",
       "      <th>pca244</th>\n",
       "      <th>pca245</th>\n",
       "      <th>pca246</th>\n",
       "      <th>pca247</th>\n",
       "      <th>pca248</th>\n",
       "      <th>pca249</th>\n",
       "      <th>labels</th>\n",
       "    </tr>\n",
       "  </thead>\n",
       "  <tbody>\n",
       "    <tr>\n",
       "      <th>794</th>\n",
       "      <td>-2790.063965</td>\n",
       "      <td>941.363220</td>\n",
       "      <td>-450.876312</td>\n",
       "      <td>-16.881285</td>\n",
       "      <td>-23.757185</td>\n",
       "      <td>266.390656</td>\n",
       "      <td>-35.812542</td>\n",
       "      <td>-43.869370</td>\n",
       "      <td>-139.339478</td>\n",
       "      <td>50.013527</td>\n",
       "      <td>...</td>\n",
       "      <td>18.105705</td>\n",
       "      <td>-4.226239</td>\n",
       "      <td>2.247457</td>\n",
       "      <td>-21.606541</td>\n",
       "      <td>5.672059</td>\n",
       "      <td>0.113089</td>\n",
       "      <td>2.938675</td>\n",
       "      <td>11.760774</td>\n",
       "      <td>11.556808</td>\n",
       "      <td>2</td>\n",
       "    </tr>\n",
       "    <tr>\n",
       "      <th>190</th>\n",
       "      <td>-2674.676758</td>\n",
       "      <td>787.409058</td>\n",
       "      <td>-292.080841</td>\n",
       "      <td>-12.459249</td>\n",
       "      <td>-23.545973</td>\n",
       "      <td>69.260490</td>\n",
       "      <td>-40.746521</td>\n",
       "      <td>-12.490017</td>\n",
       "      <td>33.843327</td>\n",
       "      <td>-2.004482</td>\n",
       "      <td>...</td>\n",
       "      <td>3.731455</td>\n",
       "      <td>-0.126414</td>\n",
       "      <td>-19.827976</td>\n",
       "      <td>0.332897</td>\n",
       "      <td>0.464469</td>\n",
       "      <td>2.854188</td>\n",
       "      <td>-4.628636</td>\n",
       "      <td>-10.954101</td>\n",
       "      <td>-17.088339</td>\n",
       "      <td>2</td>\n",
       "    </tr>\n",
       "    <tr>\n",
       "      <th>1024</th>\n",
       "      <td>1825.270142</td>\n",
       "      <td>933.722900</td>\n",
       "      <td>1387.870728</td>\n",
       "      <td>589.914185</td>\n",
       "      <td>-3328.892822</td>\n",
       "      <td>381.851166</td>\n",
       "      <td>-1327.042969</td>\n",
       "      <td>405.855927</td>\n",
       "      <td>653.255737</td>\n",
       "      <td>513.292725</td>\n",
       "      <td>...</td>\n",
       "      <td>158.745773</td>\n",
       "      <td>28.839203</td>\n",
       "      <td>32.630306</td>\n",
       "      <td>78.671585</td>\n",
       "      <td>46.219593</td>\n",
       "      <td>20.289433</td>\n",
       "      <td>51.244339</td>\n",
       "      <td>43.788345</td>\n",
       "      <td>-39.064026</td>\n",
       "      <td>1</td>\n",
       "    </tr>\n",
       "    <tr>\n",
       "      <th>519</th>\n",
       "      <td>-2783.756348</td>\n",
       "      <td>931.952576</td>\n",
       "      <td>-441.249786</td>\n",
       "      <td>-16.820127</td>\n",
       "      <td>-22.943647</td>\n",
       "      <td>252.919617</td>\n",
       "      <td>-36.649456</td>\n",
       "      <td>-42.258301</td>\n",
       "      <td>-126.112091</td>\n",
       "      <td>46.502876</td>\n",
       "      <td>...</td>\n",
       "      <td>22.024841</td>\n",
       "      <td>15.041027</td>\n",
       "      <td>-9.137911</td>\n",
       "      <td>-17.108101</td>\n",
       "      <td>4.355286</td>\n",
       "      <td>-3.861822</td>\n",
       "      <td>-2.752205</td>\n",
       "      <td>20.779800</td>\n",
       "      <td>-5.226222</td>\n",
       "      <td>2</td>\n",
       "    </tr>\n",
       "    <tr>\n",
       "      <th>707</th>\n",
       "      <td>-2585.554199</td>\n",
       "      <td>673.569702</td>\n",
       "      <td>-177.155655</td>\n",
       "      <td>-11.210746</td>\n",
       "      <td>-24.361341</td>\n",
       "      <td>-63.133881</td>\n",
       "      <td>-39.087746</td>\n",
       "      <td>14.608357</td>\n",
       "      <td>139.730865</td>\n",
       "      <td>-38.287655</td>\n",
       "      <td>...</td>\n",
       "      <td>50.294846</td>\n",
       "      <td>-23.780457</td>\n",
       "      <td>-8.237935</td>\n",
       "      <td>-23.447460</td>\n",
       "      <td>8.493696</td>\n",
       "      <td>1.241484</td>\n",
       "      <td>18.593523</td>\n",
       "      <td>16.175735</td>\n",
       "      <td>6.343253</td>\n",
       "      <td>2</td>\n",
       "    </tr>\n",
       "    <tr>\n",
       "      <th>125</th>\n",
       "      <td>-968.545288</td>\n",
       "      <td>-1103.645142</td>\n",
       "      <td>1213.158813</td>\n",
       "      <td>-135.158432</td>\n",
       "      <td>61.409969</td>\n",
       "      <td>-1121.710205</td>\n",
       "      <td>-16.381384</td>\n",
       "      <td>171.112793</td>\n",
       "      <td>562.359192</td>\n",
       "      <td>-147.075012</td>\n",
       "      <td>...</td>\n",
       "      <td>13.519430</td>\n",
       "      <td>7.000445</td>\n",
       "      <td>7.265800</td>\n",
       "      <td>45.118504</td>\n",
       "      <td>-5.014089</td>\n",
       "      <td>24.601515</td>\n",
       "      <td>-31.845251</td>\n",
       "      <td>31.636017</td>\n",
       "      <td>49.224628</td>\n",
       "      <td>0</td>\n",
       "    </tr>\n",
       "  </tbody>\n",
       "</table>\n",
       "<p>6 rows × 251 columns</p>\n",
       "</div>"
      ],
      "text/plain": [
       "             pca0         pca1         pca2        pca3         pca4  \\\n",
       "794  -2790.063965   941.363220  -450.876312  -16.881285   -23.757185   \n",
       "190  -2674.676758   787.409058  -292.080841  -12.459249   -23.545973   \n",
       "1024  1825.270142   933.722900  1387.870728  589.914185 -3328.892822   \n",
       "519  -2783.756348   931.952576  -441.249786  -16.820127   -22.943647   \n",
       "707  -2585.554199   673.569702  -177.155655  -11.210746   -24.361341   \n",
       "125   -968.545288 -1103.645142  1213.158813 -135.158432    61.409969   \n",
       "\n",
       "             pca5         pca6        pca7        pca8        pca9  ...  \\\n",
       "794    266.390656   -35.812542  -43.869370 -139.339478   50.013527  ...   \n",
       "190     69.260490   -40.746521  -12.490017   33.843327   -2.004482  ...   \n",
       "1024   381.851166 -1327.042969  405.855927  653.255737  513.292725  ...   \n",
       "519    252.919617   -36.649456  -42.258301 -126.112091   46.502876  ...   \n",
       "707    -63.133881   -39.087746   14.608357  139.730865  -38.287655  ...   \n",
       "125  -1121.710205   -16.381384  171.112793  562.359192 -147.075012  ...   \n",
       "\n",
       "          pca241     pca242     pca243     pca244     pca245     pca246  \\\n",
       "794    18.105705  -4.226239   2.247457 -21.606541   5.672059   0.113089   \n",
       "190     3.731455  -0.126414 -19.827976   0.332897   0.464469   2.854188   \n",
       "1024  158.745773  28.839203  32.630306  78.671585  46.219593  20.289433   \n",
       "519    22.024841  15.041027  -9.137911 -17.108101   4.355286  -3.861822   \n",
       "707    50.294846 -23.780457  -8.237935 -23.447460   8.493696   1.241484   \n",
       "125    13.519430   7.000445   7.265800  45.118504  -5.014089  24.601515   \n",
       "\n",
       "         pca247     pca248     pca249  labels  \n",
       "794    2.938675  11.760774  11.556808       2  \n",
       "190   -4.628636 -10.954101 -17.088339       2  \n",
       "1024  51.244339  43.788345 -39.064026       1  \n",
       "519   -2.752205  20.779800  -5.226222       2  \n",
       "707   18.593523  16.175735   6.343253       2  \n",
       "125  -31.845251  31.636017  49.224628       0  \n",
       "\n",
       "[6 rows x 251 columns]"
      ]
     },
     "execution_count": 59,
     "metadata": {},
     "output_type": "execute_result"
    }
   ],
   "source": [
    "sampling = X.copy()\n",
    "sampling['labels'] = Y\n",
    "sampling.sample(6)"
   ]
  },
  {
   "cell_type": "code",
   "execution_count": 60,
   "id": "8565c9ce-cfd2-455f-b978-9d68fcc5ecd6",
   "metadata": {},
   "outputs": [],
   "source": [
    "# splitting data into training and test partition\n",
    "X_train, X_test, y_train, y_test = train_test_split(X, Y, test_size=0.3)"
   ]
  },
  {
   "cell_type": "code",
   "execution_count": 61,
   "id": "f4f79f8a-10f3-4ec1-a19f-2c5089f595f5",
   "metadata": {},
   "outputs": [
    {
     "data": {
      "image/png": "[encoded data removed]",
      "text/plain": [
       "<Figure size 800x600 with 2 Axes>"
      ]
     },
     "metadata": {},
     "output_type": "display_data"
    }
   ],
   "source": [
    "accuracies = []\n",
    "rf_ = []\n",
    "k = range(1,21)\n",
    "for i in k:\n",
    "    rf = RandomForestClassifier(max_depth=i, n_estimators=15, max_features=100)\n",
    "    rf.fit(X_train, y_train)\n",
    "    y_pred_train = rf.predict(X_train)\n",
    "    y_pred_test = rf.predict(X_test)\n",
    "    accuracy_train = accuracy_score(y_train, y_pred_train)\n",
    "    accuracy_test = accuracy_score(y_test, y_pred_test)\n",
    "    \n",
    "    rf_.append(rf)\n",
    "    accuracies.append([accuracy_train, accuracy_test])\n",
    "    \n",
    "fig = plt.figure(figsize=(8,6))\n",
    "ax = fig.add_subplot(1,2,1)\n",
    "ax.scatter(k, [elmnt[0] for elmnt in accuracies], c='r', label='Training Split')\n",
    "ax.scatter(k, [elmnt[1] for elmnt in accuracies], c='b', label='Test Split')\n",
    "ax.legend()\n",
    "ax1 = fig.add_subplot(1,2,2)\n",
    "ax1.plot(k, [abs(elmnt[0]-elmnt[1]) for elmnt in accuracies], 'bo--', label='Absolute Difference')\n",
    "ax1.legend()\n",
    "plt.show()"
   ]
  },
  {
   "cell_type": "code",
   "execution_count": 63,
   "id": "0dec508a-11be-493c-8c51-170703cd8c86",
   "metadata": {},
   "outputs": [
    {
     "name": "stdout",
     "output_type": "stream",
     "text": [
      "Accuracy Test: 0.9527777777777777\n",
      "Accuracy Train: 0.9976190476190476\n"
     ]
    }
   ],
   "source": [
    "rf = rf_[8]\n",
    "y_pred_test = rf.predict(X_test)\n",
    "accuracy_test = accuracy_score(y_test, y_pred_test)\n",
    "print(\"Accuracy Test:\", accuracy_test)\n",
    "\n",
    "y_pred_train = rf.predict(X_train)\n",
    "accuracy_train = accuracy_score(y_train, y_pred_train)\n",
    "print('Accuracy Train:', accuracy_train)"
   ]
  },
  {
   "cell_type": "code",
   "execution_count": 64,
   "id": "1ef007a8-01c1-4b57-8c25-4cf7bf0e9003",
   "metadata": {},
   "outputs": [
    {
     "data": {
      "image/png": "[encoded data removed]",
      "text/plain": [
       "<Figure size 640x480 with 2 Axes>"
      ]
     },
     "metadata": {},
     "output_type": "display_data"
    }
   ],
   "source": [
    "##### Create the confusion matrix\n",
    "cm = confusion_matrix(y_test, y_pred_test)\n",
    "\n",
    "ConfusionMatrixDisplay(confusion_matrix=cm).plot();"
   ]
  },
  {
   "cell_type": "code",
   "execution_count": 65,
   "id": "e07fcafc-99c6-4687-9279-154db8f98069",
   "metadata": {},
   "outputs": [],
   "source": [
    "pickle.dump(rf, open('Models/Classifier_Model_Binary_RF'+'.pickle', 'wb'))"
   ]
  },
  {
   "cell_type": "markdown",
   "id": "2cc06173-54a1-40d1-954b-34c67dc414ff",
   "metadata": {
    "jp-MarkdownHeadingCollapsed": true,
    "tags": []
   },
   "source": [
    "## Local Extracted Features"
   ]
  },
  {
   "cell_type": "code",
   "execution_count": null,
   "id": "51aea9b5-fed6-4155-bd61-e1c95ed564f7",
   "metadata": {},
   "outputs": [],
   "source": [
    "# mixing data rows --> data shouldnt be sorted for splitting \n",
    "data_sample = local_features.copy().sample(frac=1).reset_index(drop=True)\n",
    "X = data_sample.drop(['label', 'img', 'pore_number', 'image_index'], axis=1)\n",
    "Y = data_sample['label']"
   ]
  },
  {
   "cell_type": "code",
   "execution_count": null,
   "id": "5d15e796-5101-4d24-a8f1-18b214722997",
   "metadata": {},
   "outputs": [],
   "source": [
    "# scaling / normalizing the features\n",
    "\n",
    "# copy the dataframe\n",
    "df_norm = X.copy()\n",
    "# apply min-max scaling\n",
    "for column in df_norm.columns:\n",
    "    df_norm[column] = (df_norm[column] - df_norm[column].min()) / (df_norm[column].max() - df_norm[column].min())\n",
    "\n",
    "X = df_norm"
   ]
  },
  {
   "cell_type": "code",
   "execution_count": null,
   "id": "6d5a8c04-a778-411a-8e8b-45171533ba7a",
   "metadata": {},
   "outputs": [],
   "source": [
    "sampling = X.copy()\n",
    "sampling['label'] = Y\n",
    "sampling.sample(6)"
   ]
  },
  {
   "cell_type": "code",
   "execution_count": null,
   "id": "3a042f2c-25b3-487f-9528-ad5b35cf1980",
   "metadata": {},
   "outputs": [],
   "source": [
    "# splitting data into training and test partition\n",
    "X_train, X_test, y_train, y_test = train_test_split(X, Y, test_size=0.3)"
   ]
  },
  {
   "cell_type": "code",
   "execution_count": null,
   "id": "bce3a20d-e3de-4bf1-8e33-d8fea848218c",
   "metadata": {},
   "outputs": [],
   "source": [
    "accuracies = []\n",
    "rf_ = []\n",
    "k = range(1,21)\n",
    "for i in k:\n",
    "    rf = RandomForestClassifier(max_depth=i, n_estimators=200, max_features=5)\n",
    "    rf.fit(X_train, y_train)\n",
    "    y_pred_train = rf.predict(X_train)\n",
    "    y_pred_test = rf.predict(X_test)\n",
    "    accuracy_train = accuracy_score(y_train, y_pred_train)\n",
    "    accuracy_test = accuracy_score(y_test, y_pred_test)\n",
    "    \n",
    "    rf_.append(rf)\n",
    "    accuracies.append([accuracy_train, accuracy_test])\n",
    "    \n",
    "fig = plt.figure(figsize=(8,6))\n",
    "ax = fig.add_subplot(1,2,1)\n",
    "ax.scatter(k, [elmnt[0] for elmnt in accuracies], c='r', label='Training Split')\n",
    "ax.scatter(k, [elmnt[1] for elmnt in accuracies], c='b', label='Test Split')\n",
    "ax.legend()\n",
    "ax1 = fig.add_subplot(1,2,2)\n",
    "ax1.plot(k, [abs(elmnt[0]-elmnt[1]) for elmnt in accuracies], 'bo--', label='Absolute Difference')\n",
    "ax1.legend()\n",
    "plt.show()"
   ]
  },
  {
   "cell_type": "code",
   "execution_count": null,
   "id": "77e4accf-be21-4bed-8362-64698a1827d6",
   "metadata": {},
   "outputs": [],
   "source": [
    "rf = rf_[5]\n",
    "y_pred_test = rf.predict(X_test)\n",
    "accuracy_test = accuracy_score(y_test, y_pred_test)\n",
    "print(\"Accuracy Test:\", accuracy_test)\n",
    "\n",
    "y_pred_train = rf.predict(X_train)\n",
    "accuracy_train = accuracy_score(y_train, y_pred_train)\n",
    "print('Accuracy Train:', accuracy_train)"
   ]
  },
  {
   "cell_type": "code",
   "execution_count": null,
   "id": "a07e6323-6ea7-4d75-9836-831eaf4eb132",
   "metadata": {},
   "outputs": [],
   "source": [
    "# Create the confusion matrix\n",
    "cm = confusion_matrix(y_test, y_pred_test)\n",
    "\n",
    "ConfusionMatrixDisplay(confusion_matrix=cm).plot();"
   ]
  },
  {
   "cell_type": "code",
   "execution_count": null,
   "id": "5e26651e-700a-4ca2-b5fa-1ba764490ba2",
   "metadata": {},
   "outputs": [],
   "source": [
    "# plt.figure(figsize=(50,50))\n",
    "corr = sampling.corr(numeric_only=True)\n",
    "corrplot(corr, size_scale=500, marker=\"s\")\n",
    "# plt.savefig('Images/Results/{}/KorrPlot.pdf'.format(dataset))\n",
    "plt.show()"
   ]
  },
  {
   "cell_type": "markdown",
   "id": "6619c79f-ea78-4da2-9f34-2ca51430f5c0",
   "metadata": {
    "tags": []
   },
   "source": [
    "# Results"
   ]
  },
  {
   "cell_type": "code",
   "execution_count": 8,
   "id": "3b3eb2d2-1e89-45b2-9eac-1808cc7e6529",
   "metadata": {},
   "outputs": [],
   "source": [
    "results = data_red.dataframe"
   ]
  },
  {
   "cell_type": "code",
   "execution_count": 9,
   "id": "6dab6db2-a569-448d-a0b6-bc9e7f63074a",
   "metadata": {},
   "outputs": [],
   "source": [
    "results['labels'] = labels"
   ]
  },
  {
   "cell_type": "code",
   "execution_count": null,
   "id": "1fb088d5-df6e-474c-a87d-661446599ef2",
   "metadata": {},
   "outputs": [],
   "source": [
    "results['labels'] = labels\n",
    "results['predicted_kmeans'] = labels_pred_kmeans"
   ]
  },
  {
   "cell_type": "code",
   "execution_count": null,
   "id": "e8a86641-f5b7-463a-9ba8-568cbb9838e2",
   "metadata": {},
   "outputs": [],
   "source": [
    "results['predicted_dbscan'] = labels_pred_dbscan"
   ]
  },
  {
   "cell_type": "code",
   "execution_count": null,
   "id": "4fb212a8-fe1b-4145-bc50-e2050ba5604c",
   "metadata": {},
   "outputs": [],
   "source": [
    "results"
   ]
  },
  {
   "cell_type": "code",
   "execution_count": null,
   "id": "cc45ab75-9fd8-4d2c-8bf3-1f8f5d7a9101",
   "metadata": {},
   "outputs": [],
   "source": [
    "sampling.to_csv('Images/Ti6Al4V_Analysis/Ti6Al4V_labeled_prepared_data.csv', sep=';', decimal=\",\", index=False)"
   ]
  },
  {
   "cell_type": "markdown",
   "id": "71a45f04-947a-4f4c-8790-744ac7b48470",
   "metadata": {
    "jp-MarkdownHeadingCollapsed": true,
    "tags": []
   },
   "source": [
    "# ANN Model"
   ]
  },
  {
   "cell_type": "code",
   "execution_count": null,
   "id": "c33d6041-736a-442d-906b-c3960e20276e",
   "metadata": {},
   "outputs": [],
   "source": [
    "from sklearn.neural_network import MLPClassifier"
   ]
  },
  {
   "cell_type": "code",
   "execution_count": null,
   "id": "bc56b488-502e-4116-9b16-e0b8294f18ef",
   "metadata": {},
   "outputs": [],
   "source": [
    "clf = MLPClassifier(solver='lbfgs', alpha=1e-5, hidden_layer_sizes=(60,40,20), random_state=1, max_iter=10000000)"
   ]
  },
  {
   "cell_type": "code",
   "execution_count": null,
   "id": "4b0ff09b-7d3b-4984-aa44-affcae58c91a",
   "metadata": {},
   "outputs": [],
   "source": [
    "clf.fit(X_train, y_train)"
   ]
  },
  {
   "cell_type": "code",
   "execution_count": null,
   "id": "2adb423a-91c5-4492-bdef-51dfd889a218",
   "metadata": {},
   "outputs": [],
   "source": [
    "mlp_predicted = clf.predict(X_train)\n",
    "# Create the confusion matrix\n",
    "cm = confusion_matrix(y_train, mlp_predicted)\n",
    "\n",
    "ConfusionMatrixDisplay(confusion_matrix=cm).plot();"
   ]
  },
  {
   "cell_type": "code",
   "execution_count": null,
   "id": "b6177872-9b3b-424c-bf93-4ae2b995e996",
   "metadata": {},
   "outputs": [],
   "source": [
    "mlp_predicted = clf.predict(X_test)\n",
    "# Create the confusion matrix\n",
    "cm = confusion_matrix(y_test, mlp_predicted)\n",
    "\n",
    "ConfusionMatrixDisplay(confusion_matrix=cm).plot();"
   ]
  },
  {
   "cell_type": "markdown",
   "id": "25d0b1a4-4617-43a4-acd7-92367f983b3a",
   "metadata": {
    "tags": []
   },
   "source": [
    "# Final Model Test"
   ]
  },
  {
   "cell_type": "code",
   "execution_count": 181,
   "id": "6572ffdd-569e-4fad-b394-295a926d3912",
   "metadata": {},
   "outputs": [
    {
     "name": "stdout",
     "output_type": "stream",
     "text": [
      "436 pores found!\n"
     ]
    }
   ],
   "source": [
    "# load pore images from different material to classify\n",
    "images = [filepath for filepath in glob.iglob('Images/Ti6Al4V-Stichprobe_4/pores/405/*.jpg')]\n",
    "\n",
    "# read and resize pore binary image\n",
    "img = [(cv.resize(cv.imread(image, cv.IMREAD_GRAYSCALE), dsize=(100, 100), interpolation=cv.INTER_CUBIC)) for image in images]\n",
    "print('{} pores found!'.format(len(images)))"
   ]
  },
  {
   "cell_type": "code",
   "execution_count": 182,
   "id": "c00e4cd0-9f6b-443e-b760-dc09558a3a96",
   "metadata": {},
   "outputs": [
    {
     "name": "stdout",
     "output_type": "stream",
     "text": [
      "Varianz explained by PCA model with 249 Components is 96.833 %.\n"
     ]
    }
   ],
   "source": [
    "# push image data in pipeline\n",
    "\n",
    "# flattening images into one long vector\n",
    "data_px = Preprocessing(img)\n",
    "\n",
    "# reducing dimensions with pretrained pca model\n",
    "data_red = DimensionReductionPCA(data_px.dataframe, k=249, pca_model='Models/PCA_Model_Binary_RF')\n",
    "data_red.pca_explain()"
   ]
  },
  {
   "cell_type": "code",
   "execution_count": 183,
   "id": "d7a0a0fd-d9ad-4cf0-93d0-fedd20a99b0b",
   "metadata": {},
   "outputs": [],
   "source": [
    "# load classifier\n",
    "classifier = pickle.load(open('Models/Classifier_Model_Binary_RF.pickle', 'rb'))"
   ]
  },
  {
   "cell_type": "code",
   "execution_count": 184,
   "id": "1236efa7-4c9c-48c9-86ec-f3068a25c576",
   "metadata": {},
   "outputs": [],
   "source": [
    "# classify pores\n",
    "y_pred = classifier.predict(data_red.dataframe)"
   ]
  },
  {
   "cell_type": "code",
   "execution_count": 185,
   "id": "70392f14-d54d-41b3-991f-f323f3db994c",
   "metadata": {},
   "outputs": [],
   "source": [
    "# save pores depending by predicted label\n",
    "try: \n",
    "    os.makedirs('Images/Ti6Al4V-Stichprobe_4/results/405/0')\n",
    "    os.makedirs('Images/Ti6Al4V-Stichprobe_4/results/405/1')\n",
    "    os.makedirs('Images/Ti6Al4V-Stichprobe_4/results/405/2')\n",
    "    \n",
    "except OSError:\n",
    "    pass\n",
    "    \n",
    "for i, image in enumerate(images):\n",
    "    label = y_pred[i]\n",
    "    img = cv.resize(cv.imread(image), dsize=(100, 100), interpolation=cv.INTER_CUBIC)\n",
    "    cv.imwrite('Images/Ti6Al4V-Stichprobe_4/results/405/{}/{}.jpg'.format(label, i), img)"
   ]
  }
 ],
 "metadata": {
  "kernelspec": {
   "display_name": "Python 3 (ipykernel)",
   "language": "python",
   "name": "python3"
  },
  "language_info": {
   "codemirror_mode": {
    "name": "ipython",
    "version": 3
   },
   "file_extension": ".py",
   "mimetype": "text/x-python",
   "name": "python",
   "nbconvert_exporter": "python",
   "pygments_lexer": "ipython3",
   "version": "3.9.16"
  }
 },
 "nbformat": 4,
 "nbformat_minor": 5
}
